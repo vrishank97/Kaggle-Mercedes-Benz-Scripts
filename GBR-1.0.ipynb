{
 "cells": [
  {
   "cell_type": "code",
   "execution_count": 2,
   "metadata": {
    "collapsed": false
   },
   "outputs": [],
   "source": [
    "import numpy as np\n",
    "import sklearn\n",
    "import pandas as pd\n",
    "from sklearn.preprocessing import LabelEncoder\n",
    "from sklearn import metrics \n",
    "from sklearn.model_selection import cross_val_score\n",
    "from sklearn.ensemble import GradientBoostingRegressor"
   ]
  },
  {
   "cell_type": "code",
   "execution_count": 3,
   "metadata": {
    "collapsed": false
   },
   "outputs": [],
   "source": [
    "train = pd.read_csv('../input/train.csv')\n",
    "test = pd.read_csv('../input/test.csv')\n",
    "\n",
    "train=train[train.y<250]"
   ]
  },
  {
   "cell_type": "code",
   "execution_count": 4,
   "metadata": {
    "collapsed": false
   },
   "outputs": [],
   "source": [
    "train['Z0'] = train.groupby('X0')['y'].transform('mean')\n",
    "train['Z1'] = train.groupby('X1')['y'].transform('mean')\n",
    "train['Z2'] = train.groupby('X2')['y'].transform('mean')\n",
    "train['Z3'] = train.groupby('X3')['y'].transform('mean')\n",
    "train['Z4'] = train.groupby('X4')['y'].transform('mean')\n",
    "train['Z5'] = train.groupby('X5')['y'].transform('mean')\n",
    "train['Z6'] = train.groupby('X6')['y'].transform('mean')\n",
    "train['Z8'] = train.groupby('X8')['y'].transform('mean')"
   ]
  },
  {
   "cell_type": "code",
   "execution_count": 5,
   "metadata": {
    "collapsed": false
   },
   "outputs": [],
   "source": [
    "test['Z0']=test['X0'].map(train.groupby('X0')['y'].mean())\n",
    "test['Z1']=test['X1'].map(train.groupby('X1')['y'].mean())\n",
    "test['Z2']=test['X2'].map(train.groupby('X2')['y'].mean())\n",
    "test['Z3']=test['X3'].map(train.groupby('X3')['y'].mean())\n",
    "test['Z4']=test['X4'].map(train.groupby('X4')['y'].mean())\n",
    "test['Z5']=test['X5'].map(train.groupby('X5')['y'].mean())\n",
    "test['Z6']=test['X6'].map(train.groupby('X6')['y'].mean())\n",
    "test['Z8']=test['X8'].map(train.groupby('X8')['y'].mean())"
   ]
  },
  {
   "cell_type": "code",
   "execution_count": 6,
   "metadata": {
    "collapsed": false
   },
   "outputs": [
    {
     "name": "stdout",
     "output_type": "stream",
     "text": [
      "100.630190114\n"
     ]
    }
   ],
   "source": [
    "train = train.sort_values(by='ID')\n",
    "\n",
    "med = train['y'].mean()\n",
    "print(med)\n",
    "\n",
    "test['Z0']=test['Z0'].fillna(med)\n",
    "test['Z1']=test['Z1'].fillna(med)\n",
    "test['Z2']=test['Z2'].fillna(med)\n",
    "test['Z3']=test['Z3'].fillna(med)\n",
    "test['Z4']=test['Z4'].fillna(med)\n",
    "test['Z5']=test['Z5'].fillna(med)\n",
    "test['Z6']=test['Z6'].fillna(med)\n",
    "test['Z8']=test['Z8'].fillna(med)"
   ]
  },
  {
   "cell_type": "code",
   "execution_count": 7,
   "metadata": {
    "collapsed": false
   },
   "outputs": [
    {
     "name": "stdout",
     "output_type": "stream",
     "text": [
      "Shape train: (4208, 386)\n",
      "Shape test: (4209, 385)\n",
      "Shape train: (4208, 406)\n",
      "Shape test: (4209, 405)\n"
     ]
    }
   ],
   "source": [
    "for c in train.columns:\n",
    "    if train[c].dtype == 'object':\n",
    "        lbl = LabelEncoder() \n",
    "        lbl.fit(list(train[c].values) + list(test[c].values)) \n",
    "        train[c] = lbl.transform(list(train[c].values))\n",
    "        test[c] = lbl.transform(list(test[c].values))\n",
    "\n",
    "\n",
    "\n",
    "# shape        \n",
    "print('Shape train: {}\\nShape test: {}'.format(train.shape, test.shape))\n",
    "\n",
    "from sklearn.decomposition import PCA, FastICA\n",
    "n_comp = 10\n",
    "\n",
    "# PCA\n",
    "pca = PCA(n_components=n_comp, random_state=42)\n",
    "pca2_results_train = pca.fit_transform(train.drop([\"y\"], axis=1))\n",
    "pca2_results_test = pca.transform(test)\n",
    "\n",
    "# ICA\n",
    "\n",
    "ica = FastICA(n_components=n_comp, random_state=42)\n",
    "ica2_results_train = ica.fit_transform(train.drop([\"y\"], axis=1))\n",
    "ica2_results_test = ica.transform(test)\n",
    "\n",
    "# Append decomposition components to datasets\n",
    "for i in range(1, n_comp+1):\n",
    "    train['pca_' + str(i)] = pca2_results_train[:,i-2]\n",
    "    test['pca_' + str(i)] = pca2_results_test[:, i-2]\n",
    "    \n",
    "    train['ica_' + str(i)] = ica2_results_train[:,i-2]\n",
    "    test['ica_' + str(i)] = ica2_results_test[:, i-2]\n",
    "    \n",
    "print('Shape train: {}\\nShape test: {}'.format(train.shape, test.shape))"
   ]
  },
  {
   "cell_type": "code",
   "execution_count": 8,
   "metadata": {
    "collapsed": false
   },
   "outputs": [
    {
     "name": "stdout",
     "output_type": "stream",
     "text": [
      "Shape X: (4208, 405)\n",
      "Shape ty: (4208,)\n",
      "Split sucessful\n"
     ]
    }
   ],
   "source": [
    "y = np.array(train[\"y\"])\n",
    "X=np.array(train.drop('y', axis=1))\n",
    "print('Shape X: {}\\nShape ty: {}'.format(X.shape, y.shape))\n",
    "print 'Split sucessful'"
   ]
  },
  {
   "cell_type": "code",
   "execution_count": null,
   "metadata": {
    "collapsed": false
   },
   "outputs": [
    {
     "name": "stdout",
     "output_type": "stream",
     "text": [
      "GBR\n"
     ]
    }
   ],
   "source": [
    "print 'GBR'\n",
    "\n",
    "clf = GradientBoostingRegressor(n_estimators=500, max_depth=4, learning_rate=0.05)\n",
    "np.mean(cross_val_score(clf, X, y, verbose=0, n_jobs=-1, cv=5))"
   ]
  },
  {
   "cell_type": "code",
   "execution_count": null,
   "metadata": {
    "collapsed": false
   },
   "outputs": [],
   "source": [
    "test['y']=y0\n",
    "test"
   ]
  },
  {
   "cell_type": "code",
   "execution_count": null,
   "metadata": {
    "collapsed": false
   },
   "outputs": [],
   "source": [
    "output=test[['ID', 'y']]\n",
    "output.to_csv('output.csv', index=False)"
   ]
  },
  {
   "cell_type": "code",
   "execution_count": null,
   "metadata": {
    "collapsed": true
   },
   "outputs": [],
   "source": []
  }
 ],
 "metadata": {
  "anaconda-cloud": {},
  "kernelspec": {
   "display_name": "Python [conda root]",
   "language": "python",
   "name": "conda-root-py"
  },
  "language_info": {
   "codemirror_mode": {
    "name": "ipython",
    "version": 2
   },
   "file_extension": ".py",
   "mimetype": "text/x-python",
   "name": "python",
   "nbconvert_exporter": "python",
   "pygments_lexer": "ipython2",
   "version": "2.7.12"
  }
 },
 "nbformat": 4,
 "nbformat_minor": 1
}
