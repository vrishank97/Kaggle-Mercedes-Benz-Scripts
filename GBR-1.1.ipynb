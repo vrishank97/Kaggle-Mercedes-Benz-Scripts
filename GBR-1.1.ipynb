{
 "cells": [
  {
   "cell_type": "code",
   "execution_count": 1,
   "metadata": {
    "collapsed": false
   },
   "outputs": [],
   "source": [
    "import numpy as np\n",
    "import sklearn\n",
    "import pandas as pd\n",
    "from sklearn.preprocessing import LabelEncoder\n",
    "from sklearn import metrics \n",
    "from sklearn.model_selection import cross_val_score, GridSearchCV\n",
    "from sklearn.ensemble import GradientBoostingRegressor\n",
    "from sklearn.random_projection import GaussianRandomProjection\n",
    "from sklearn.random_projection import SparseRandomProjection"
   ]
  },
  {
   "cell_type": "code",
   "execution_count": 2,
   "metadata": {
    "collapsed": false
   },
   "outputs": [],
   "source": [
    "train = pd.read_csv('../input/train.csv')\n",
    "test = pd.read_csv('../input/test.csv')\n",
    "\n",
    "train=train[train.y<250]"
   ]
  },
  {
   "cell_type": "code",
   "execution_count": 3,
   "metadata": {
    "collapsed": false
   },
   "outputs": [],
   "source": [
    "train['Z0'] = train.groupby('X0')['y'].transform('median')\n",
    "train['Z1'] = train.groupby('X1')['y'].transform('median')\n",
    "train['Z2'] = train.groupby('X2')['y'].transform('median')\n",
    "train['Z3'] = train.groupby('X3')['y'].transform('median')\n",
    "train['Z4'] = train.groupby('X4')['y'].transform('median')\n",
    "train['Z5'] = train.groupby('X5')['y'].transform('median')\n",
    "train['Z6'] = train.groupby('X6')['y'].transform('median')\n",
    "train['Z8'] = train.groupby('X8')['y'].transform('median')"
   ]
  },
  {
   "cell_type": "code",
   "execution_count": 4,
   "metadata": {
    "collapsed": false
   },
   "outputs": [],
   "source": [
    "test['Z0']=test['X0'].map(train.groupby('X0')['y'].median())\n",
    "test['Z1']=test['X1'].map(train.groupby('X1')['y'].median())\n",
    "test['Z2']=test['X2'].map(train.groupby('X2')['y'].median())\n",
    "test['Z3']=test['X3'].map(train.groupby('X3')['y'].median())\n",
    "test['Z4']=test['X4'].map(train.groupby('X4')['y'].median())\n",
    "test['Z5']=test['X5'].map(train.groupby('X5')['y'].median())\n",
    "test['Z6']=test['X6'].map(train.groupby('X6')['y'].median())\n",
    "test['Z8']=test['X8'].map(train.groupby('X8')['y'].median())"
   ]
  },
  {
   "cell_type": "code",
   "execution_count": 5,
   "metadata": {
    "collapsed": false
   },
   "outputs": [
    {
     "name": "stdout",
     "output_type": "stream",
     "text": [
      "99.15\n"
     ]
    }
   ],
   "source": [
    "train = train.sort_values(by='ID')\n",
    "\n",
    "med = train['y'].median()\n",
    "print(med)\n",
    "\n",
    "test['Z0']=test['Z0'].fillna(med)\n",
    "test['Z1']=test['Z1'].fillna(med)\n",
    "test['Z2']=test['Z2'].fillna(med)\n",
    "test['Z3']=test['Z3'].fillna(med)\n",
    "test['Z4']=test['Z4'].fillna(med)\n",
    "test['Z5']=test['Z5'].fillna(med)\n",
    "test['Z6']=test['Z6'].fillna(med)\n",
    "test['Z8']=test['Z8'].fillna(med)\n",
    "\n",
    "train=train.drop('X0', axis=1)\n",
    "train=train.drop('X1', axis=1)\n",
    "train=train.drop('X2', axis=1)\n",
    "train=train.drop('X3', axis=1)\n",
    "train=train.drop('X4', axis=1)\n",
    "train=train.drop('X5', axis=1)\n",
    "train=train.drop('X6', axis=1)\n",
    "train=train.drop('X8', axis=1)\n",
    "\n",
    "test=test.drop('X0', axis=1)\n",
    "test=test.drop('X1', axis=1)\n",
    "test=test.drop('X2', axis=1)\n",
    "test=test.drop('X3', axis=1)\n",
    "test=test.drop('X4', axis=1)\n",
    "test=test.drop('X5', axis=1)\n",
    "test=test.drop('X6', axis=1)\n",
    "test=test.drop('X8', axis=1)"
   ]
  },
  {
   "cell_type": "code",
   "execution_count": 6,
   "metadata": {
    "collapsed": false
   },
   "outputs": [
    {
     "name": "stdout",
     "output_type": "stream",
     "text": [
      "Shape train: (4208, 438)\n",
      "Shape test: (4209, 437)\n"
     ]
    }
   ],
   "source": [
    "from sklearn.decomposition import PCA, FastICA\n",
    "from sklearn.decomposition import TruncatedSVD\n",
    "n_comp = 12\n",
    "\n",
    "# tSVD\n",
    "tsvd = TruncatedSVD(n_components=n_comp, random_state=420)\n",
    "tsvd_results_train = tsvd.fit_transform(train.drop([\"y\"], axis=1))\n",
    "tsvd_results_test = tsvd.transform(test)\n",
    "\n",
    "# PCA\n",
    "pca = PCA(n_components=n_comp, random_state=420)\n",
    "pca2_results_train = pca.fit_transform(train.drop([\"y\"], axis=1))\n",
    "pca2_results_test = pca.transform(test)\n",
    "\n",
    "# ICA\n",
    "ica = FastICA(n_components=n_comp, random_state=420)\n",
    "ica2_results_train = ica.fit_transform(train.drop([\"y\"], axis=1))\n",
    "ica2_results_test = ica.transform(test)\n",
    "\n",
    "# GRP\n",
    "grp = GaussianRandomProjection(n_components=n_comp, eps=0.1, random_state=420)\n",
    "grp_results_train = grp.fit_transform(train.drop([\"y\"], axis=1))\n",
    "grp_results_test = grp.transform(test)\n",
    "\n",
    "# SRP\n",
    "srp = SparseRandomProjection(n_components=n_comp, dense_output=True, random_state=420)\n",
    "srp_results_train = srp.fit_transform(train.drop([\"y\"], axis=1))\n",
    "srp_results_test = srp.transform(test)\n",
    "\n",
    "# Append decomposition components to datasets\n",
    "for i in range(1, n_comp+1):\n",
    "    train['pca_' + str(i)] = pca2_results_train[:,i-1]\n",
    "    test['pca_' + str(i)] = pca2_results_test[:, i-1]\n",
    "    \n",
    "    train['ica_' + str(i)] = ica2_results_train[:,i-1]\n",
    "    test['ica_' + str(i)] = ica2_results_test[:, i-1]\n",
    "\n",
    "    train['tsvd_' + str(i)] = tsvd_results_train[:,i-1]\n",
    "    test['tsvd_' + str(i)] = tsvd_results_test[:, i-1]\n",
    "    \n",
    "    train['grp_' + str(i)] = grp_results_train[:,i-1]\n",
    "    test['grp_' + str(i)] = grp_results_test[:, i-1]\n",
    "    \n",
    "    train['srp_' + str(i)] = srp_results_train[:,i-1]\n",
    "    test['srp_' + str(i)] = srp_results_test[:, i-1]\n",
    "    \n",
    "print('Shape train: {}\\nShape test: {}'.format(train.shape, test.shape))"
   ]
  },
  {
   "cell_type": "code",
   "execution_count": 7,
   "metadata": {
    "collapsed": false
   },
   "outputs": [
    {
     "name": "stdout",
     "output_type": "stream",
     "text": [
      "Shape X: (4208, 437)\n",
      "Shape ty: (4208,)\n",
      "Split sucessful\n"
     ]
    }
   ],
   "source": [
    "y = np.array(train[\"y\"])\n",
    "X=np.array(train.drop('y', axis=1))\n",
    "print('Shape X: {}\\nShape ty: {}'.format(X.shape, y.shape))\n",
    "print 'Split sucessful'"
   ]
  },
  {
   "cell_type": "code",
   "execution_count": 10,
   "metadata": {
    "collapsed": false
   },
   "outputs": [
    {
     "name": "stdout",
     "output_type": "stream",
     "text": [
      "GBR\n"
     ]
    },
    {
     "data": {
      "text/plain": [
       "0.32379086105191673"
      ]
     },
     "execution_count": 10,
     "metadata": {},
     "output_type": "execute_result"
    }
   ],
   "source": [
    "print 'GBR'\n",
    "\n",
    "clf = GradientBoostingRegressor(n_estimators=400, max_depth=2, learning_rate=0.05)\n",
    "np.mean(cross_val_score(clf, X, y, verbose=0, n_jobs=-1, cv=3))"
   ]
  },
  {
   "cell_type": "code",
   "execution_count": null,
   "metadata": {
    "collapsed": false
   },
   "outputs": [],
   "source": [
    "test['y']=y0\n",
    "test"
   ]
  },
  {
   "cell_type": "code",
   "execution_count": null,
   "metadata": {
    "collapsed": false
   },
   "outputs": [],
   "source": [
    "output=test[['ID', 'y']]\n",
    "output.to_csv('output.csv', index=False)"
   ]
  },
  {
   "cell_type": "code",
   "execution_count": null,
   "metadata": {
    "collapsed": true
   },
   "outputs": [],
   "source": []
  }
 ],
 "metadata": {
  "anaconda-cloud": {},
  "kernelspec": {
   "display_name": "Python [conda root]",
   "language": "python",
   "name": "conda-root-py"
  },
  "language_info": {
   "codemirror_mode": {
    "name": "ipython",
    "version": 2
   },
   "file_extension": ".py",
   "mimetype": "text/x-python",
   "name": "python",
   "nbconvert_exporter": "python",
   "pygments_lexer": "ipython2",
   "version": "2.7.12"
  }
 },
 "nbformat": 4,
 "nbformat_minor": 1
}
